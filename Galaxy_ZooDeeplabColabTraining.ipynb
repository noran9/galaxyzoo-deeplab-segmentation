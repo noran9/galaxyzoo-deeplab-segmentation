{
  "nbformat": 4,
  "nbformat_minor": 0,
  "metadata": {
    "colab": {
      "name": "Galaxy-ZooDeeplab.ipynb",
      "provenance": [],
      "collapsed_sections": []
    },
    "kernelspec": {
      "name": "python3",
      "display_name": "Python 3"
    },
    "accelerator": "GPU"
  },
  "cells": [
    {
      "cell_type": "markdown",
      "metadata": {
        "id": "fw0NQZ3dFG8d",
        "colab_type": "text"
      },
      "source": [
        "Install compatible tensorflow version:"
      ]
    },
    {
      "cell_type": "code",
      "metadata": {
        "id": "Ak_RfoiLGnoY",
        "colab_type": "code",
        "colab": {}
      },
      "source": [
        "!pip install tensorflow==1.15"
      ],
      "execution_count": 0,
      "outputs": []
    },
    {
      "cell_type": "markdown",
      "metadata": {
        "id": "TzA_NlBWFM4D",
        "colab_type": "text"
      },
      "source": [
        "Download dataset from drive and extract files:"
      ]
    },
    {
      "cell_type": "code",
      "metadata": {
        "id": "XZ0I-WT-KGBR",
        "colab_type": "code",
        "outputId": "9f96d1d3-73f0-4765-894e-f21348c41427",
        "colab": {
          "base_uri": "https://localhost:8080/",
          "height": 34
        }
      },
      "source": [
        "fileId = '105ygyQ4lQNoZ03TZ26Kqwv5tO0rI8dw0'\n",
        "\n",
        "import os\n",
        "from zipfile import ZipFile\n",
        "from shutil import copy\n",
        "from pydrive.auth import GoogleAuth\n",
        "from pydrive.drive import GoogleDrive\n",
        "from google.colab import auth\n",
        "from oauth2client.client import GoogleCredentials\n",
        "\n",
        "os.makedirs('dataset')\n",
        "os.chdir('dataset')\n",
        "\n",
        "auth.authenticate_user()\n",
        "gauth = GoogleAuth()\n",
        "gauth.credentials = GoogleCredentials.get_application_default()\n",
        "drive = GoogleDrive(gauth)\n",
        "\n",
        "fileName = fileId + '.zip'\n",
        "downloaded = drive.CreateFile({'id': fileId})\n",
        "downloaded.GetContentFile(fileName)\n",
        "ds = ZipFile(fileName)\n",
        "ds.extractall()\n",
        "os.remove(fileName)\n",
        "print('Extracted zip file ' + fileName)"
      ],
      "execution_count": 2,
      "outputs": [
        {
          "output_type": "stream",
          "text": [
            "Extracted zip file 105ygyQ4lQNoZ03TZ26Kqwv5tO0rI8dw0.zip\n"
          ],
          "name": "stdout"
        }
      ]
    },
    {
      "cell_type": "markdown",
      "metadata": {
        "id": "B5VYJSdrO9xe",
        "colab_type": "text"
      },
      "source": [
        "Check TPU connection"
      ]
    },
    {
      "cell_type": "code",
      "metadata": {
        "id": "TSz8JTYyO6fa",
        "colab_type": "code",
        "colab": {}
      },
      "source": [
        "import os\n",
        "import pprint\n",
        "import tensorflow as tf\n",
        "if \"COLAB_TPU_ADDR\" not in os.environ:\n",
        " print(\"ERROR: Not connected to a TPU runtime; please see the first cell in this notebook for instructions!\")\n",
        "else:\n",
        " tpu_address = \"grpc://\" + os.environ[\"COLAB_TPU_ADDR\"]\n",
        " print (\"TPU address is\", tpu_address)\n",
        "with tf.Session(tpu_address) as session:\n",
        " devices = session.list_devices()\n",
        " \n",
        " print(\"TPU devices:\")\n",
        " pprint.pprint(devices)"
      ],
      "execution_count": 0,
      "outputs": []
    },
    {
      "cell_type": "markdown",
      "metadata": {
        "id": "PgR2SVsnFUkt",
        "colab_type": "text"
      },
      "source": [
        "Train the model:"
      ]
    },
    {
      "cell_type": "code",
      "metadata": {
        "id": "MX7H2YpULGRn",
        "colab_type": "code",
        "colab": {}
      },
      "source": [
        "import os\n",
        "\n",
        "os.environ['PYTHONPATH']=\"/env/python\"\n",
        "os.environ['PYTHONPATH']+=\":/content/dataset/Tensorflow/models/research:/content/dataset/Tensorflow/models/research/slim\"\n",
        "\n",
        "%cd /content/dataset/Tensorflow/models/research\n",
        "!sh train-pqr.sh"
      ],
      "execution_count": 0,
      "outputs": []
    },
    {
      "cell_type": "markdown",
      "metadata": {
        "id": "569W464GFXbX",
        "colab_type": "text"
      },
      "source": [
        "Download trained model for evaluation and visualisation:"
      ]
    },
    {
      "cell_type": "code",
      "metadata": {
        "id": "brre55BfKibk",
        "colab_type": "code",
        "colab": {}
      },
      "source": [
        "%cd /content/dataset/Tensorflow/models/research\n",
        "!sh vis-pqr.sh"
      ],
      "execution_count": 0,
      "outputs": []
    },
    {
      "cell_type": "code",
      "metadata": {
        "id": "D6FKh2EMdIoL",
        "colab_type": "code",
        "colab": {}
      },
      "source": [
        "%cd /content/dataset/Tensorflow/models/research/deeplab/datasets/GalaxyZoo/exp/train_on_trainval_set\n",
        "!zip -r /content/visualised.zip ./vis/\n",
        "\n",
        "from google.colab import files\n",
        "files.download(\"/content/visualised.zip\")"
      ],
      "execution_count": 0,
      "outputs": []
    },
    {
      "cell_type": "code",
      "metadata": {
        "id": "lwkIV3fNYLJ8",
        "colab_type": "code",
        "colab": {}
      },
      "source": [
        "import os\n",
        "\n",
        "os.environ['PYTHONPATH']=\"/env/python\"\n",
        "os.environ['PYTHONPATH']+=\":/content/dataset/Tensorflow/models/research:/content/dataset/Tensorflow/models/research/slim\"\n",
        "\n",
        "%cd /content/dataset/Tensorflow/models/research\n",
        "!sh eval-pqr.sh"
      ],
      "execution_count": 0,
      "outputs": []
    }
  ]
}